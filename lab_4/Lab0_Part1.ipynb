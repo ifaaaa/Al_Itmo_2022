{
  "cells": [
    {
      "cell_type": "markdown",
      "metadata": {
        "id": "VQwftladQPH9"
      },
      "source": [
        "# Import dependencies"
      ]
    },
    {
      "cell_type": "code",
      "execution_count": 1,
      "metadata": {
        "collapsed": true,
        "id": "EenEUJxFQPH-"
      },
      "outputs": [],
      "source": [
        "from keras.models import Sequential\n",
        "from keras.layers import Dense, Activation\n",
        "from keras.callbacks import Callback\n",
        "from keras import regularizers\n",
        "from keras import optimizers\n",
        "\n",
        "from functools import partial\n",
        "\n",
        "%matplotlib inline\n",
        "import matplotlib.pyplot as plt\n",
        "from ipywidgets import *\n",
        "\n",
        "import numpy as np"
      ]
    },
    {
      "cell_type": "markdown",
      "metadata": {
        "id": "r4y0C5CrQPH_"
      },
      "source": [
        "# Generate data"
      ]
    },
    {
      "cell_type": "code",
      "execution_count": 2,
      "metadata": {
        "collapsed": true,
        "id": "85RmvYtqQPH_"
      },
      "outputs": [],
      "source": [
        "# Dot count \n",
        "samples = 1000\n",
        "test_n = 200"
      ]
    },
    {
      "cell_type": "code",
      "execution_count": 3,
      "metadata": {
        "collapsed": true,
        "id": "xFOY3RU5QPH_"
      },
      "outputs": [],
      "source": [
        "# X interval\n",
        "x_int = (-6.3, 6.3)\n",
        "# Y interval\n",
        "y_int = (0, 1.2)"
      ]
    },
    {
      "cell_type": "code",
      "execution_count": 4,
      "metadata": {
        "id": "iBaVk7R5QPH_",
        "colab": {
          "base_uri": "https://localhost:8080/"
        },
        "outputId": "bf9d6ec6-85b5-446d-c606-3ca58137a217"
      },
      "outputs": [
        {
          "output_type": "stream",
          "name": "stdout",
          "text": [
            "[[ 3.59578132  0.6142486 ]\n",
            " [ 4.27109679  0.11289838]\n",
            " [ 2.32745811  0.11726606]\n",
            " ...\n",
            " [ 5.59457748  0.10641708]\n",
            " [-4.84801599  0.86415793]\n",
            " [ 0.08408966  0.87163622]]\n"
          ]
        }
      ],
      "source": [
        "# Generate\n",
        "data = [(np.random.random() * (x_int[1] - x_int[0]) + x_int[0], \n",
        "                  np.random.random() * (y_int[1] - y_int[0]) + y_int[0]) for i in range(samples + test_n)]\n",
        "#print(data)\n",
        "train_data = np.array(data[test_n:])\n",
        "test_data = np.array(data[:test_n])\n",
        "print(train_data)"
      ]
    },
    {
      "cell_type": "code",
      "execution_count": 5,
      "metadata": {
        "collapsed": true,
        "id": "igDKzkd4QPIA"
      },
      "outputs": [],
      "source": [
        "\n",
        "# Your variant function\n",
        "def main_func(x):\n",
        "    return np.abs(np.sin(x))\n",
        "def main_func_noisy(x):\n",
        "    return main_func(x) + np.cos(4*x + 1) / 5\n",
        "\n",
        "def result_func(xy):\n",
        "    return main_func(xy[0]) > xy[1]\n",
        "\n",
        "def result_func_noisy(xy):\n",
        "    return main_func_noisy(xy[0]) > xy[1]"
      ]
    },
    {
      "cell_type": "code",
      "execution_count": 6,
      "metadata": {
        "colab": {
          "base_uri": "https://localhost:8080/"
        },
        "id": "bG15pKXUQPIA",
        "outputId": "805ef6a7-3e0a-4497-a5cc-c00401cdf0dc"
      },
      "outputs": [
        {
          "output_type": "stream",
          "name": "stdout",
          "text": [
            "(1000,)\n",
            "(200,)\n"
          ]
        }
      ],
      "source": [
        "train_answers = np.apply_along_axis(result_func_noisy, arr=train_data, axis=1)\n",
        "#answers = np.reshape(answers, (samples,1))\n",
        "print(train_answers.shape)\n",
        "\n",
        "test_answers = np.apply_along_axis(result_func, arr=test_data, axis=1)\n",
        "print(test_answers.shape)"
      ]
    },
    {
      "cell_type": "code",
      "execution_count": 7,
      "metadata": {
        "colab": {
          "base_uri": "https://localhost:8080/"
        },
        "id": "wCXWuHYlQPIB",
        "outputId": "c3f504cc-4deb-4190-cbcf-4e8aa7db17fb"
      },
      "outputs": [
        {
          "output_type": "stream",
          "name": "stdout",
          "text": [
            "(539, 2)\n",
            "(461, 2)\n"
          ]
        }
      ],
      "source": [
        "train_data_true = train_data[train_answers]\n",
        "train_data_false = train_data[np.logical_not(train_answers)]\n",
        "print(train_data_true.shape)\n",
        "print(train_data_false.shape)"
      ]
    },
    {
      "cell_type": "markdown",
      "metadata": {
        "id": "OLLDTpToQPIB"
      },
      "source": [
        "## Plot drawing"
      ]
    },
    {
      "cell_type": "code",
      "execution_count": 8,
      "metadata": {
        "colab": {
          "base_uri": "https://localhost:8080/",
          "height": 282
        },
        "id": "rolFEPSdQPIB",
        "outputId": "1a94bdb2-a15c-4f2d-930f-5d3dc058c49a"
      },
      "outputs": [
        {
          "output_type": "execute_result",
          "data": {
            "text/plain": [
              "[<matplotlib.lines.Line2D at 0x7f8e47c03d90>]"
            ]
          },
          "metadata": {},
          "execution_count": 8
        },
        {
          "output_type": "display_data",
          "data": {
            "text/plain": [
              "<Figure size 432x288 with 1 Axes>"
            ],
            "image/png": "[encoded data removed]"
          },
          "metadata": {
            "needs_background": "light"
          }
        }
      ],
      "source": [
        "fig, ax = plt.subplots()\n",
        "\n",
        "xx = np.linspace(*x_int, 100)\n",
        "\n",
        "ax.plot(train_data_true[:,0], train_data_true[:,1], 'g.')\n",
        "ax.plot(train_data_false[:,0], train_data_false[:,1], 'r.')\n",
        "ax.plot(xx, main_func(xx), 'b--')\n",
        "ax.plot(xx, main_func_noisy(xx), 'y-')"
      ]
    },
    {
      "cell_type": "markdown",
      "metadata": {
        "id": "fvjri2qbQPIB"
      },
      "source": [
        "## Experimentation"
      ]
    },
    {
      "cell_type": "markdown",
      "metadata": {
        "id": "ugV7CqAFQPIB"
      },
      "source": [
        "Plot drawing"
      ]
    },
    {
      "cell_type": "code",
      "execution_count": 9,
      "metadata": {
        "collapsed": true,
        "id": "0PCt93zTQPIB"
      },
      "outputs": [],
      "source": [
        "def plot_accuracy(history):\n",
        "    # Plot training & validation accuracy values\n",
        "    plt.plot(history.history['accuracy'])\n",
        "    plt.plot(history.history['val_accuracy'])\n",
        "    plt.title('Model accuracy')\n",
        "    plt.ylabel('Accuracy')\n",
        "    plt.xlabel('Epoch')\n",
        "    plt.legend(['Train', 'Test'], loc='upper left')\n",
        "    plt.show()\n",
        "\n",
        "    # Plot training & validation loss values\n",
        "    plt.plot(history.history['loss'])\n",
        "    plt.plot(history.history['val_loss'])\n",
        "    plt.title('Model loss')\n",
        "    plt.ylabel('Loss')\n",
        "    plt.xlabel('Epoch')\n",
        "    plt.legend(['Train', 'Test'], loc='upper left')\n",
        "    plt.show()"
      ]
    },
    {
      "cell_type": "markdown",
      "metadata": {
        "id": "vn7UEZD0QPIC"
      },
      "source": [
        "Setting parameters and contur plot drawing"
      ]
    },
    {
      "cell_type": "code",
      "execution_count": 10,
      "metadata": {
        "collapsed": true,
        "id": "Kro36zQ6QPIC"
      },
      "outputs": [],
      "source": [
        "def plot_contour_graph(model):\n",
        "    xx = np.linspace(*x_int, 100)\n",
        "    yy = np.linspace(*y_int, 200)\n",
        "\n",
        "    xm, ym = np.meshgrid(xx, yy)\n",
        "    xys = np.array([xm, ym]).reshape((2, -1))\n",
        "\n",
        "    z_actual = result_func(xys).reshape(200,100)\n",
        "\n",
        "    xys = np.moveaxis(xys, 0, 1)\n",
        "    z = model.predict(xys).reshape(200, 100)\n",
        "\n",
        "    \n",
        "    plt.contourf(xm, ym, z)\n",
        "    plt.title('Neural net vision of the function')\n",
        "    plt.colorbar()\n",
        "    plt.show()\n",
        "    \n",
        "    plt.contourf(xm, ym, z_actual)\n",
        "    plt.title('Actual function')\n",
        "    plt.colorbar()\n",
        "    plt.show()"
      ]
    },
    {
      "cell_type": "code",
      "execution_count": 11,
      "metadata": {
        "scrolled": false,
        "colab": {
          "base_uri": "https://localhost:8080/",
          "height": 1000,
          "referenced_widgets": [
            "c779adec83f1467391192b19f0b16281",
            "8ce29429bc82499aa2366037c7d9d021",
            "b1c29a1eac9640f68165af9c7dbc02da",
            "9e8cd5d32ff041f5bcf3fce1135813d7",
            "c5bcb88325614ac49cd156ac452b00d8",
            "ce834444022f4e40a7f41702802f9c94",
            "fbcd132a1e9744bfb51c141b555ff5a9",
            "85d853c495aa4dda9f26f22bf296d62d",
            "e3574bcdf819476390a88b75d0a8f20f",
            "2dde0fd1eb2b4a01b03db1df5e924799",
            "0fb4386645724dbd8404b9d5900692db",
            "cfbc6e7c9e1c450b89a58abd4922177f",
            "d4ece2e496e844359728eef267d2c756",
            "4c6a8b604f854f289295b7e702315ca9",
            "577822130070402ba9847b97f746d038",
            "f4af620ad48c4166878b65712ff55262",
            "1c96c71c3a30493c8fe494043c482de4",
            "434c68b915fc4773b9aee75aa9cee5b7",
            "17c6c86e5da34b4aaa51ab7fb8f90590",
            "7628cb8d408546438e7fa9e556f52bbc",
            "4d1e01ea56c7475c904192c01f57fc4b",
            "f5b6a4e784884328aa9660a202350d7c",
            "22594bab0694408da489d02a8e51aad4",
            "d26efe8c01bd4759b1575c4537b3a3a3",
            "8cf0e626ab1242879197628c738c1db6",
            "c9fbe2535cd64da6b99887aa8069dd17",
            "404ee464c7e24837a1d121c993bf5702",
            "9db92529c2e24632ad332957ea01c77d",
            "33db22d7063e44ce8b2e2b1bd1160e7f",
            "a8aef5b885294d4388139dbd95344f7b",
            "57598e1709a34e48a466fdd8b3dee4dd",
            "87c7217327eb497d89f760c37bd6225e",
            "5340256862664d48a7ad5823e93d7f5d",
            "5e023cb325f34099bf5b2597afe26850",
            "dae1ec45ea584bb2af62372b7f074c7d",
            "61441b0ee1754141a69839452ddf6c87",
            "6761fc29c389496297ec6daa4fb35dbf",
            "0c814e45852047a984f098d1cd208f2b",
            "73216a5a97f44cc28024ac64ddcd4ee7",
            "130718bc54584db68224f10729dc4519",
            "82f8ce5824234762b6ce1bd643d33a38",
            "2b75f98f0b0a4c55ae5f9a666f2a4e26",
            "ab8612c4ac054d0aac786fba0287c32f",
            "e4c062f1cf1b4db1aefc95d14ceb96ba",
            "7b3c6bb15bef48deacf0591ce42081d8",
            "6ff760148ad6424c894e0994786f6470",
            "1f208ca100ca4f87a8f617cb9ae0793d",
            "8c92e864759c4d389ed98f25d97815a3",
            "80773ad7a43240009dd7a474ea936635",
            "817e0bdc88b3453fa0b3420fc25aaf2c",
            "17c86ef3beec43e096a9db6522c79be1",
            "6c2331385af549b695e71a8120a0771a",
            "003e06fa969c4b8ca207b7ce3444b5b1",
            "fbfc1872215d41739bc96e8327517ecd",
            "c06743da54d348c7a30556b61c9e70ed"
          ]
        },
        "id": "dbSt4CJhQPIC",
        "outputId": "032461ef-3230-4c1b-849d-d8490ae99f60"
      },
      "outputs": [
        {
          "output_type": "display_data",
          "data": {
            "text/plain": [
              "interactive(children=(IntSlider(value=2, description='Слоев: ', max=4), Dropdown(description='Loss function: '…"
            ],
            "application/vnd.jupyter.widget-view+json": {
              "version_major": 2,
              "version_minor": 0,
              "model_id": "c779adec83f1467391192b19f0b16281"
            }
          },
          "metadata": {}
        }
      ],
      "source": [
        "style = {'description_width': 'initial'}\n",
        "@interact_manual(\n",
        "    n_layers = IntSlider(min=0, max=4, value=2, description='Слоев: '),\n",
        "    layer1_size = IntSlider(min=0, max=20, value=6, description='Neurons count in layer 1: ', style=style),\n",
        "    layer2_size = IntSlider(min=0, max=20, value=3, description='Neurons count in layer 2: ', style=style),\n",
        "    layer3_size = IntSlider(min=0, max=20, value=0, description='Neurons count in layer 1: ', style=style),\n",
        "    layer4_size = IntSlider(min=0, max=20, value=0, description='Neurons count in layer 1: ', style=style),\n",
        "    layer1_type = Dropdown(options=['softmax', 'relu', 'tanh', 'sigmoid', 'linear'], value='relu',\n",
        "                          description='Layer 1 activation type: ', style=style),\n",
        "    layer2_type = Dropdown(options=['softmax', 'relu', 'tanh', 'sigmoid', 'linear'], value='relu',\n",
        "                          description='Layer 2 activation type: ', style=style),\n",
        "    layer3_type = Dropdown(options=['softmax', 'relu', 'tanh', 'sigmoid', 'linear'], value='relu',\n",
        "                          description='Layer 3 activation type: ', style=style),\n",
        "    layer4_type = Dropdown(options=['softmax', 'relu', 'tanh', 'sigmoid', 'linear'], value='relu',\n",
        "                          description='Layer 4 activation type: ', style=style),\n",
        "    layer_out_type = Dropdown(options=['softmax', 'relu', 'tanh', 'sigmoid', 'linear'], value='sigmoid',\n",
        "                          description='Output layer activation type: ', style=style),\n",
        "    loss_func = Dropdown(options={\n",
        "        'Standard deviation': 'mse', \n",
        "        'Mean absolute deviation': 'mae',\n",
        "        'Binary crossentropy': 'binary_crossentropy'\n",
        "    }, value='binary_crossentropy', description='Loss function: ', style=style),\n",
        "    epochs = IntSlider(min=10, max=10000, step=10, value=300, description='Epoch count: ', style=style),\n",
        "    batch_size = IntSlider(min=0, max=len(data), value=100, description='Batch size: ', style=style),\n",
        "    lr = ToggleButtons(options=[\"-0.1\", \"0\", \"0.001\", \"0.01\", \"0.05\", \"0.1\", \"0.5\", \"1\", \"5\"], \n",
        "                               value=\"0.01\", description='Learn rate: ', style=style),\n",
        "    l1=ToggleButtons(options=[\"-0.1\", \"0\", \"0.0001\", \"0.0005\", \"0.001\", \"0.005\", \"0.01\", \"0.05\", \"0.1\"], \n",
        "                               value=\"0.0001\", description='Regularization  L1: ', style=style),\n",
        "    l2=ToggleButtons(options=[\"-0.1\", \"0\", \"0.0001\", \"0.0005\", \"0.001\", \"0.005\", \"0.01\", \"0.05\", \"0.1\"], \n",
        "                               value=\"0.0001\", description='Regularization  L2: ', style=style)\n",
        ")\n",
        "def interactive_learning(n_layers, loss_func, batch_size, lr, l1, l2, layer_out_type, epochs,\n",
        "                         layer1_size, layer2_size, layer3_size, layer4_size,\n",
        "                         layer1_type, layer2_type, layer3_type, layer4_type):\n",
        "    layer_sizes = [layer1_size, layer2_size, layer3_size, layer4_size]\n",
        "    layer_types = [layer1_type, layer2_type, layer3_type, layer4_type]\n",
        "    lr = float(lr)\n",
        "    l1 = float(l1)\n",
        "    l2 = float(l2)\n",
        "    \n",
        "    model = Sequential()\n",
        "    \n",
        "    if n_layers == 0:\n",
        "        model.add(Dense(1, activation=layer_out_type, \n",
        "                        input_shape=(2,), kernel_regularizer=regularizers.l1_l2(l1=l1, l2=l2)))\n",
        "    else:\n",
        "        model.add(Dense(layer_sizes[0], activation=layer_types[0], \n",
        "                        input_shape=(2,), kernel_regularizer=regularizers.l1_l2(l1=l1, l2=l2)))\n",
        "        for i in range(1, n_layers):\n",
        "            model.add(Dense(layer_sizes[i], activation=layer_types[i],\n",
        "                           kernel_regularizer=regularizers.l1_l2(l1=l1, l2=l2)))\n",
        "        model.add(Dense(1, activation=layer_out_type, kernel_regularizer=regularizers.l1_l2(l1=l1, l2=l2)))\n",
        "    \n",
        "    model.compile(\n",
        "     optimizer = optimizers.SGD(learning_rate=lr),\n",
        "     loss = loss_func,\n",
        "     metrics = [\"accuracy\"]\n",
        "    )\n",
        "    \n",
        "    \n",
        "    history = model.fit(\n",
        "     train_data, train_answers,\n",
        "     epochs=epochs,\n",
        "     batch_size=batch_size,\n",
        "     validation_data=(test_data, test_answers),\n",
        "     verbose=0\n",
        "    )\n",
        "    \n",
        "    print('Accuracy: ', history.history['val_accuracy'][-1])\n",
        "    plot_accuracy(history)\n",
        "    plot_contour_graph(model)"
      ]
    },
    {
      "cell_type": "code",
      "execution_count": null,
      "metadata": {
        "collapsed": true,
        "id": "BK90mLCoQPID"
      },
      "outputs": [],
      "source": []
    }
  ],
  "metadata": {
    "kernelspec": {
      "display_name": "Python 3",
      "language": "python",
      "name": "python3"
    },
    "language_info": {
      "codemirror_mode": {
        "name": "ipython",
        "version": 3
      },
      "file_extension": ".py",
      "mimetype": "text/x-python",
      "name": "python",
      "nbconvert_exporter": "python",
      "pygments_lexer": "ipython3",
      "version": "3.7.0"
    },
    "colab": {
      "provenance": [],
      "collapsed_sections": []
    },
    "widgets": {
      "application/vnd.jupyter.widget-state+json": {
        "c779adec83f1467391192b19f0b16281": {
          "model_module": "@jupyter-widgets/controls",
          "model_name": "VBoxModel",
          "model_module_version": "1.5.0",
          "state": {
            "_dom_classes": [
              "widget-interact"
            ],
            "_model_module": "@jupyter-widgets/controls",
            "_model_module_version": "1.5.0",
            "_model_name": "VBoxModel",
            "_view_count": null,
            "_view_module": "@jupyter-widgets/controls",
            "_view_module_version": "1.5.0",
            "_view_name": "VBoxView",
            "box_style": "",
            "children": [
              "IPY_MODEL_8ce29429bc82499aa2366037c7d9d021",
              "IPY_MODEL_b1c29a1eac9640f68165af9c7dbc02da",
              "IPY_MODEL_9e8cd5d32ff041f5bcf3fce1135813d7",
              "IPY_MODEL_c5bcb88325614ac49cd156ac452b00d8",
              "IPY_MODEL_ce834444022f4e40a7f41702802f9c94",
              "IPY_MODEL_fbcd132a1e9744bfb51c141b555ff5a9",
              "IPY_MODEL_85d853c495aa4dda9f26f22bf296d62d",
              "IPY_MODEL_e3574bcdf819476390a88b75d0a8f20f",
              "IPY_MODEL_2dde0fd1eb2b4a01b03db1df5e924799",
              "IPY_MODEL_0fb4386645724dbd8404b9d5900692db",
              "IPY_MODEL_cfbc6e7c9e1c450b89a58abd4922177f",
              "IPY_MODEL_d4ece2e496e844359728eef267d2c756",
              "IPY_MODEL_4c6a8b604f854f289295b7e702315ca9",
              "IPY_MODEL_577822130070402ba9847b97f746d038",
              "IPY_MODEL_f4af620ad48c4166878b65712ff55262",
              "IPY_MODEL_1c96c71c3a30493c8fe494043c482de4",
              "IPY_MODEL_434c68b915fc4773b9aee75aa9cee5b7",
              "IPY_MODEL_17c6c86e5da34b4aaa51ab7fb8f90590"
            ],
            "layout": "IPY_MODEL_7628cb8d408546438e7fa9e556f52bbc"
          }
        },
        "8ce29429bc82499aa2366037c7d9d021": {
          "model_module": "@jupyter-widgets/controls",
          "model_name": "IntSliderModel",
          "model_module_version": "1.5.0",
          "state": {
            "_dom_classes": [],
            "_model_module": "@jupyter-widgets/controls",
            "_model_module_version": "1.5.0",
            "_model_name": "IntSliderModel",
            "_view_count": null,
            "_view_module": "@jupyter-widgets/controls",
            "_view_module_version": "1.5.0",
            "_view_name": "IntSliderView",
            "continuous_update": true,
            "description": "Слоев: ",
            "description_tooltip": null,
            "disabled": false,
            "layout": "IPY_MODEL_4d1e01ea56c7475c904192c01f57fc4b",
            "max": 4,
            "min": 0,
            "orientation": "horizontal",
            "readout": true,
            "readout_format": "d",
            "step": 1,
            "style": "IPY_MODEL_f5b6a4e784884328aa9660a202350d7c",
            "value": 2
          }
        },
        "b1c29a1eac9640f68165af9c7dbc02da": {
          "model_module": "@jupyter-widgets/controls",
          "model_name": "DropdownModel",
          "model_module_version": "1.5.0",
          "state": {
            "_dom_classes": [],
            "_model_module": "@jupyter-widgets/controls",
            "_model_module_version": "1.5.0",
            "_model_name": "DropdownModel",
            "_options_labels": [
              "Standard deviation",
              "Mean absolute deviation",
              "Binary crossentropy"
            ],
            "_view_count": null,
            "_view_module": "@jupyter-widgets/controls",
            "_view_module_version": "1.5.0",
            "_view_name": "DropdownView",
            "description": "Loss function: ",
            "description_tooltip": null,
            "disabled": false,
            "index": 2,
            "layout": "IPY_MODEL_22594bab0694408da489d02a8e51aad4",
            "style": "IPY_MODEL_d26efe8c01bd4759b1575c4537b3a3a3"
          }
        },
        "9e8cd5d32ff041f5bcf3fce1135813d7": {
          "model_module": "@jupyter-widgets/controls",
          "model_name": "IntSliderModel",
          "model_module_version": "1.5.0",
          "state": {
            "_dom_classes": [],
            "_model_module": "@jupyter-widgets/controls",
            "_model_module_version": "1.5.0",
            "_model_name": "IntSliderModel",
            "_view_count": null,
            "_view_module": "@jupyter-widgets/controls",
            "_view_module_version": "1.5.0",
            "_view_name": "IntSliderView",
            "continuous_update": true,
            "description": "Batch size: ",
            "description_tooltip": null,
            "disabled": false,
            "layout": "IPY_MODEL_8cf0e626ab1242879197628c738c1db6",
            "max": 1200,
            "min": 0,
            "orientation": "horizontal",
            "readout": true,
            "readout_format": "d",
            "step": 1,
            "style": "IPY_MODEL_c9fbe2535cd64da6b99887aa8069dd17",
            "value": 100
          }
        },
        "c5bcb88325614ac49cd156ac452b00d8": {
          "model_module": "@jupyter-widgets/controls",
          "model_name": "ToggleButtonsModel",
          "model_module_version": "1.5.0",
          "state": {
            "_dom_classes": [],
            "_model_module": "@jupyter-widgets/controls",
            "_model_module_version": "1.5.0",
            "_model_name": "ToggleButtonsModel",
            "_options_labels": [
              "-0.1",
              "0",
              "0.001",
              "0.01",
              "0.05",
              "0.1",
              "0.5",
              "1",
              "5"
            ],
            "_view_count": null,
            "_view_module": "@jupyter-widgets/controls",
            "_view_module_version": "1.5.0",
            "_view_name": "ToggleButtonsView",
            "button_style": "",
            "description": "Learn rate: ",
            "description_tooltip": null,
            "disabled": false,
            "icons": [],
            "index": 4,
            "layout": "IPY_MODEL_404ee464c7e24837a1d121c993bf5702",
            "style": "IPY_MODEL_9db92529c2e24632ad332957ea01c77d",
            "tooltips": []
          }
        },
        "ce834444022f4e40a7f41702802f9c94": {
          "model_module": "@jupyter-widgets/controls",
          "model_name": "ToggleButtonsModel",
          "model_module_version": "1.5.0",
          "state": {
            "_dom_classes": [],
            "_model_module": "@jupyter-widgets/controls",
            "_model_module_version": "1.5.0",
            "_model_name": "ToggleButtonsModel",
            "_options_labels": [
              "-0.1",
              "0",
              "0.0001",
              "0.0005",
              "0.001",
              "0.005",
              "0.01",
              "0.05",
              "0.1"
            ],
            "_view_count": null,
            "_view_module": "@jupyter-widgets/controls",
            "_view_module_version": "1.5.0",
            "_view_name": "ToggleButtonsView",
            "button_style": "",
            "description": "Regularization  L1: ",
            "description_tooltip": null,
            "disabled": false,
            "icons": [],
            "index": 4,
            "layout": "IPY_MODEL_33db22d7063e44ce8b2e2b1bd1160e7f",
            "style": "IPY_MODEL_a8aef5b885294d4388139dbd95344f7b",
            "tooltips": []
          }
        },
        "fbcd132a1e9744bfb51c141b555ff5a9": {
          "model_module": "@jupyter-widgets/controls",
          "model_name": "ToggleButtonsModel",
          "model_module_version": "1.5.0",
          "state": {
            "_dom_classes": [],
            "_model_module": "@jupyter-widgets/controls",
            "_model_module_version": "1.5.0",
            "_model_name": "ToggleButtonsModel",
            "_options_labels": [
              "-0.1",
              "0",
              "0.0001",
              "0.0005",
              "0.001",
              "0.005",
              "0.01",
              "0.05",
              "0.1"
            ],
            "_view_count": null,
            "_view_module": "@jupyter-widgets/controls",
            "_view_module_version": "1.5.0",
            "_view_name": "ToggleButtonsView",
            "button_style": "",
            "description": "Regularization  L2: ",
            "description_tooltip": null,
            "disabled": false,
            "icons": [],
            "index": 4,
            "layout": "IPY_MODEL_57598e1709a34e48a466fdd8b3dee4dd",
            "style": "IPY_MODEL_87c7217327eb497d89f760c37bd6225e",
            "tooltips": []
          }
        },
        "85d853c495aa4dda9f26f22bf296d62d": {
          "model_module": "@jupyter-widgets/controls",
          "model_name": "DropdownModel",
          "model_module_version": "1.5.0",
          "state": {
            "_dom_classes": [],
            "_model_module": "@jupyter-widgets/controls",
            "_model_module_version": "1.5.0",
            "_model_name": "DropdownModel",
            "_options_labels": [
              "softmax",
              "relu",
              "tanh",
              "sigmoid",
              "linear"
            ],
            "_view_count": null,
            "_view_module": "@jupyter-widgets/controls",
            "_view_module_version": "1.5.0",
            "_view_name": "DropdownView",
            "description": "Output layer activation type: ",
            "description_tooltip": null,
            "disabled": false,
            "index": 3,
            "layout": "IPY_MODEL_5340256862664d48a7ad5823e93d7f5d",
            "style": "IPY_MODEL_5e023cb325f34099bf5b2597afe26850"
          }
        },
        "e3574bcdf819476390a88b75d0a8f20f": {
          "model_module": "@jupyter-widgets/controls",
          "model_name": "IntSliderModel",
          "model_module_version": "1.5.0",
          "state": {
            "_dom_classes": [],
            "_model_module": "@jupyter-widgets/controls",
            "_model_module_version": "1.5.0",
            "_model_name": "IntSliderModel",
            "_view_count": null,
            "_view_module": "@jupyter-widgets/controls",
            "_view_module_version": "1.5.0",
            "_view_name": "IntSliderView",
            "continuous_update": true,
            "description": "Epoch count: ",
            "description_tooltip": null,
            "disabled": false,
            "layout": "IPY_MODEL_dae1ec45ea584bb2af62372b7f074c7d",
            "max": 10000,
            "min": 10,
            "orientation": "horizontal",
            "readout": true,
            "readout_format": "d",
            "step": 10,
            "style": "IPY_MODEL_61441b0ee1754141a69839452ddf6c87",
            "value": 300
          }
        },
        "2dde0fd1eb2b4a01b03db1df5e924799": {
          "model_module": "@jupyter-widgets/controls",
          "model_name": "IntSliderModel",
          "model_module_version": "1.5.0",
          "state": {
            "_dom_classes": [],
            "_model_module": "@jupyter-widgets/controls",
            "_model_module_version": "1.5.0",
            "_model_name": "IntSliderModel",
            "_view_count": null,
            "_view_module": "@jupyter-widgets/controls",
            "_view_module_version": "1.5.0",
            "_view_name": "IntSliderView",
            "continuous_update": true,
            "description": "Neurons count in layer 1: ",
            "description_tooltip": null,
            "disabled": false,
            "layout": "IPY_MODEL_6761fc29c389496297ec6daa4fb35dbf",
            "max": 20,
            "min": 0,
            "orientation": "horizontal",
            "readout": true,
            "readout_format": "d",
            "step": 1,
            "style": "IPY_MODEL_0c814e45852047a984f098d1cd208f2b",
            "value": 20
          }
        },
        "0fb4386645724dbd8404b9d5900692db": {
          "model_module": "@jupyter-widgets/controls",
          "model_name": "IntSliderModel",
          "model_module_version": "1.5.0",
          "state": {
            "_dom_classes": [],
            "_model_module": "@jupyter-widgets/controls",
            "_model_module_version": "1.5.0",
            "_model_name": "IntSliderModel",
            "_view_count": null,
            "_view_module": "@jupyter-widgets/controls",
            "_view_module_version": "1.5.0",
            "_view_name": "IntSliderView",
            "continuous_update": true,
            "description": "Neurons count in layer 2: ",
            "description_tooltip": null,
            "disabled": false,
            "layout": "IPY_MODEL_73216a5a97f44cc28024ac64ddcd4ee7",
            "max": 20,
            "min": 0,
            "orientation": "horizontal",
            "readout": true,
            "readout_format": "d",
            "step": 1,
            "style": "IPY_MODEL_130718bc54584db68224f10729dc4519",
            "value": 14
          }
        },
        "cfbc6e7c9e1c450b89a58abd4922177f": {
          "model_module": "@jupyter-widgets/controls",
          "model_name": "IntSliderModel",
          "model_module_version": "1.5.0",
          "state": {
            "_dom_classes": [],
            "_model_module": "@jupyter-widgets/controls",
            "_model_module_version": "1.5.0",
            "_model_name": "IntSliderModel",
            "_view_count": null,
            "_view_module": "@jupyter-widgets/controls",
            "_view_module_version": "1.5.0",
            "_view_name": "IntSliderView",
            "continuous_update": true,
            "description": "Neurons count in layer 1: ",
            "description_tooltip": null,
            "disabled": false,
            "layout": "IPY_MODEL_82f8ce5824234762b6ce1bd643d33a38",
            "max": 20,
            "min": 0,
            "orientation": "horizontal",
            "readout": true,
            "readout_format": "d",
            "step": 1,
            "style": "IPY_MODEL_2b75f98f0b0a4c55ae5f9a666f2a4e26",
            "value": 11
          }
        },
        "d4ece2e496e844359728eef267d2c756": {
          "model_module": "@jupyter-widgets/controls",
          "model_name": "IntSliderModel",
          "model_module_version": "1.5.0",
          "state": {
            "_dom_classes": [],
            "_model_module": "@jupyter-widgets/controls",
            "_model_module_version": "1.5.0",
            "_model_name": "IntSliderModel",
            "_view_count": null,
            "_view_module": "@jupyter-widgets/controls",
            "_view_module_version": "1.5.0",
            "_view_name": "IntSliderView",
            "continuous_update": true,
            "description": "Neurons count in layer 1: ",
            "description_tooltip": null,
            "disabled": false,
            "layout": "IPY_MODEL_ab8612c4ac054d0aac786fba0287c32f",
            "max": 20,
            "min": 0,
            "orientation": "horizontal",
            "readout": true,
            "readout_format": "d",
            "step": 1,
            "style": "IPY_MODEL_e4c062f1cf1b4db1aefc95d14ceb96ba",
            "value": 0
          }
        },
        "4c6a8b604f854f289295b7e702315ca9": {
          "model_module": "@jupyter-widgets/controls",
          "model_name": "DropdownModel",
          "model_module_version": "1.5.0",
          "state": {
            "_dom_classes": [],
            "_model_module": "@jupyter-widgets/controls",
            "_model_module_version": "1.5.0",
            "_model_name": "DropdownModel",
            "_options_labels": [
              "softmax",
              "relu",
              "tanh",
              "sigmoid",
              "linear"
            ],
            "_view_count": null,
            "_view_module": "@jupyter-widgets/controls",
            "_view_module_version": "1.5.0",
            "_view_name": "DropdownView",
            "description": "Layer 1 activation type: ",
            "description_tooltip": null,
            "disabled": false,
            "index": 1,
            "layout": "IPY_MODEL_7b3c6bb15bef48deacf0591ce42081d8",
            "style": "IPY_MODEL_6ff760148ad6424c894e0994786f6470"
          }
        },
        "577822130070402ba9847b97f746d038": {
          "model_module": "@jupyter-widgets/controls",
          "model_name": "DropdownModel",
          "model_module_version": "1.5.0",
          "state": {
            "_dom_classes": [],
            "_model_module": "@jupyter-widgets/controls",
            "_model_module_version": "1.5.0",
            "_model_name": "DropdownModel",
            "_options_labels": [
              "softmax",
              "relu",
              "tanh",
              "sigmoid",
              "linear"
            ],
            "_view_count": null,
            "_view_module": "@jupyter-widgets/controls",
            "_view_module_version": "1.5.0",
            "_view_name": "DropdownView",
            "description": "Layer 2 activation type: ",
            "description_tooltip": null,
            "disabled": false,
            "index": 1,
            "layout": "IPY_MODEL_1f208ca100ca4f87a8f617cb9ae0793d",
            "style": "IPY_MODEL_8c92e864759c4d389ed98f25d97815a3"
          }
        },
        "f4af620ad48c4166878b65712ff55262": {
          "model_module": "@jupyter-widgets/controls",
          "model_name": "DropdownModel",
          "model_module_version": "1.5.0",
          "state": {
            "_dom_classes": [],
            "_model_module": "@jupyter-widgets/controls",
            "_model_module_version": "1.5.0",
            "_model_name": "DropdownModel",
            "_options_labels": [
              "softmax",
              "relu",
              "tanh",
              "sigmoid",
              "linear"
            ],
            "_view_count": null,
            "_view_module": "@jupyter-widgets/controls",
            "_view_module_version": "1.5.0",
            "_view_name": "DropdownView",
            "description": "Layer 3 activation type: ",
            "description_tooltip": null,
            "disabled": false,
            "index": 1,
            "layout": "IPY_MODEL_80773ad7a43240009dd7a474ea936635",
            "style": "IPY_MODEL_817e0bdc88b3453fa0b3420fc25aaf2c"
          }
        },
        "1c96c71c3a30493c8fe494043c482de4": {
          "model_module": "@jupyter-widgets/controls",
          "model_name": "DropdownModel",
          "model_module_version": "1.5.0",
          "state": {
            "_dom_classes": [],
            "_model_module": "@jupyter-widgets/controls",
            "_model_module_version": "1.5.0",
            "_model_name": "DropdownModel",
            "_options_labels": [
              "softmax",
              "relu",
              "tanh",
              "sigmoid",
              "linear"
            ],
            "_view_count": null,
            "_view_module": "@jupyter-widgets/controls",
            "_view_module_version": "1.5.0",
            "_view_name": "DropdownView",
            "description": "Layer 4 activation type: ",
            "description_tooltip": null,
            "disabled": false,
            "index": 1,
            "layout": "IPY_MODEL_17c86ef3beec43e096a9db6522c79be1",
            "style": "IPY_MODEL_6c2331385af549b695e71a8120a0771a"
          }
        },
        "434c68b915fc4773b9aee75aa9cee5b7": {
          "model_module": "@jupyter-widgets/controls",
          "model_name": "ButtonModel",
          "model_module_version": "1.5.0",
          "state": {
            "_dom_classes": [],
            "_model_module": "@jupyter-widgets/controls",
            "_model_module_version": "1.5.0",
            "_model_name": "ButtonModel",
            "_view_count": null,
            "_view_module": "@jupyter-widgets/controls",
            "_view_module_version": "1.5.0",
            "_view_name": "ButtonView",
            "button_style": "",
            "description": "Run Interact",
            "disabled": true,
            "icon": "",
            "layout": "IPY_MODEL_003e06fa969c4b8ca207b7ce3444b5b1",
            "style": "IPY_MODEL_fbfc1872215d41739bc96e8327517ecd",
            "tooltip": ""
          }
        },
        "17c6c86e5da34b4aaa51ab7fb8f90590": {
          "model_module": "@jupyter-widgets/output",
          "model_name": "OutputModel",
          "model_module_version": "1.0.0",
          "state": {
            "_dom_classes": [],
            "_model_module": "@jupyter-widgets/output",
            "_model_module_version": "1.0.0",
            "_model_name": "OutputModel",
            "_view_count": null,
            "_view_module": "@jupyter-widgets/output",
            "_view_module_version": "1.0.0",
            "_view_name": "OutputView",
            "layout": "IPY_MODEL_c06743da54d348c7a30556b61c9e70ed",
            "msg_id": "dfa10335-366a-4a72-82a8-cf39cd2519f7",
            "outputs": [
              {
                "output_type": "stream",
                "name": "stdout",
                "text": [
                  "Accuracy:  0.7900000214576721\n"
                ]
              },
              {
                "output_type": "display_data",
                "data": {
                  "text/plain": "<Figure size 432x288 with 1 Axes>",
                  "image/png": "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\n"
                },
                "metadata": {
                  "needs_background": "light"
                }
              },
              {
                "output_type": "display_data",
                "data": {
                  "text/plain": "<Figure size 432x288 with 1 Axes>",
                  "image/png": "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\n"
                },
                "metadata": {
                  "needs_background": "light"
                }
              },
              {
                "output_type": "stream",
                "name": "stdout",
                "text": [
                  "\r  1/625 [..............................] - ETA: 31s"
                ]
              },
              {
                "output_type": "stream",
                "name": "stdout",
                "text": [
                  "\b\b\b\b\b\b\b\b\b\b\b\b\b\b\b\b\b\b\b\b\b\b\b\b\b\b\b\b\b\b\b\b\b\b\b\b\b\b\b\b\b\b\b\b\b\b\b\b\b\b\b\r 36/625 [>.............................] - ETA: 0s "
                ]
              },
              {
                "output_type": "stream",
                "name": "stdout",
                "text": [
                  "\b\b\b\b\b\b\b\b\b\b\b\b\b\b\b\b\b\b\b\b\b\b\b\b\b\b\b\b\b\b\b\b\b\b\b\b\b\b\b\b\b\b\b\b\b\b\b\b\b\b\r 80/625 [==>...........................] - ETA: 0s"
                ]
              },
              {
                "output_type": "stream",
                "name": "stdout",
                "text": [
                  "\b\b\b\b\b\b\b\b\b\b\b\b\b\b\b\b\b\b\b\b\b\b\b\b\b\b\b\b\b\b\b\b\b\b\b\b\b\b\b\b\b\b\b\b\b\b\b\b\b\b\r123/625 [====>.........................] - ETA: 0s"
                ]
              },
              {
                "output_type": "stream",
                "name": "stdout",
                "text": [
                  "\b\b\b\b\b\b\b\b\b\b\b\b\b\b\b\b\b\b\b\b\b\b\b\b\b\b\b\b\b\b\b\b\b\b\b\b\b\b\b\b\b\b\b\b\b\b\b\b\b\b\r157/625 [======>.......................] - ETA: 0s"
                ]
              },
              {
                "output_type": "stream",
                "name": "stdout",
                "text": [
                  "\b\b\b\b\b\b\b\b\b\b\b\b\b\b\b\b\b\b\b\b\b\b\b\b\b\b\b\b\b\b\b\b\b\b\b\b\b\b\b\b\b\b\b\b\b\b\b\b\b\b\r200/625 [========>.....................] - ETA: 0s"
                ]
              },
              {
                "output_type": "stream",
                "name": "stdout",
                "text": [
                  "\b\b\b\b\b\b\b\b\b\b\b\b\b\b\b\b\b\b\b\b\b\b\b\b\b\b\b\b\b\b\b\b\b\b\b\b\b\b\b\b\b\b\b\b\b\b\b\b\b\b\r241/625 [==========>...................] - ETA: 0s"
                ]
              },
              {
                "output_type": "stream",
                "name": "stdout",
                "text": [
                  "\b\b\b\b\b\b\b\b\b\b\b\b\b\b\b\b\b\b\b\b\b\b\b\b\b\b\b\b\b\b\b\b\b\b\b\b\b\b\b\b\b\b\b\b\b\b\b\b\b\b\r274/625 [============>.................] - ETA: 0s"
                ]
              },
              {
                "output_type": "stream",
                "name": "stdout",
                "text": [
                  "\b\b\b\b\b\b\b\b\b\b\b\b\b\b\b\b\b\b\b\b\b\b\b\b\b\b\b\b\b\b\b\b\b\b\b\b\b\b\b\b\b\b\b\b\b\b\b\b\b\b\r319/625 [==============>...............] - ETA: 0s"
                ]
              },
              {
                "output_type": "stream",
                "name": "stdout",
                "text": [
                  "\b\b\b\b\b\b\b\b\b\b\b\b\b\b\b\b\b\b\b\b\b\b\b\b\b\b\b\b\b\b\b\b\b\b\b\b\b\b\b\b\b\b\b\b\b\b\b\b\b\b\r361/625 [================>.............] - ETA: 0s"
                ]
              },
              {
                "output_type": "stream",
                "name": "stdout",
                "text": [
                  "\b\b\b\b\b\b\b\b\b\b\b\b\b\b\b\b\b\b\b\b\b\b\b\b\b\b\b\b\b\b\b\b\b\b\b\b\b\b\b\b\b\b\b\b\b\b\b\b\b\b\r398/625 [==================>...........] - ETA: 0s"
                ]
              },
              {
                "output_type": "stream",
                "name": "stdout",
                "text": [
                  "\b\b\b\b\b\b\b\b\b\b\b\b\b\b\b\b\b\b\b\b\b\b\b\b\b\b\b\b\b\b\b\b\b\b\b\b\b\b\b\b\b\b\b\b\b\b\b\b\b\b\r439/625 [====================>.........] - ETA: 0s"
                ]
              },
              {
                "output_type": "stream",
                "name": "stdout",
                "text": [
                  "\b\b\b\b\b\b\b\b\b\b\b\b\b\b\b\b\b\b\b\b\b\b\b\b\b\b\b\b\b\b\b\b\b\b\b\b\b\b\b\b\b\b\b\b\b\b\b\b\b\b\r482/625 [======================>.......] - ETA: 0s"
                ]
              },
              {
                "output_type": "stream",
                "name": "stdout",
                "text": [
                  "\b\b\b\b\b\b\b\b\b\b\b\b\b\b\b\b\b\b\b\b\b\b\b\b\b\b\b\b\b\b\b\b\b\b\b\b\b\b\b\b\b\b\b\b\b\b\b\b\b\b\r525/625 [========================>.....] - ETA: 0s"
                ]
              },
              {
                "output_type": "stream",
                "name": "stdout",
                "text": [
                  "\b\b\b\b\b\b\b\b\b\b\b\b\b\b\b\b\b\b\b\b\b\b\b\b\b\b\b\b\b\b\b\b\b\b\b\b\b\b\b\b\b\b\b\b\b\b\b\b\b\b\r567/625 [==========================>...] - ETA: 0s"
                ]
              },
              {
                "output_type": "stream",
                "name": "stdout",
                "text": [
                  "\b\b\b\b\b\b\b\b\b\b\b\b\b\b\b\b\b\b\b\b\b\b\b\b\b\b\b\b\b\b\b\b\b\b\b\b\b\b\b\b\b\b\b\b\b\b\b\b\b\b\r609/625 [============================>.] - ETA: 0s"
                ]
              },
              {
                "output_type": "stream",
                "name": "stdout",
                "text": [
                  "\b\b\b\b\b\b\b\b\b\b\b\b\b\b\b\b\b\b\b\b\b\b\b\b\b\b\b\b\b\b\b\b\b\b\b\b\b\b\b\b\b\b\b\b\b\b\b\b\b\b\r625/625 [==============================] - 1s 1ms/step\n"
                ]
              }
            ]
          }
        },
        "7628cb8d408546438e7fa9e556f52bbc": {
          "model_module": "@jupyter-widgets/base",
          "model_name": "LayoutModel",
          "model_module_version": "1.2.0",
          "state": {
            "_model_module": "@jupyter-widgets/base",
            "_model_module_version": "1.2.0",
            "_model_name": "LayoutModel",
            "_view_count": null,
            "_view_module": "@jupyter-widgets/base",
            "_view_module_version": "1.2.0",
            "_view_name": "LayoutView",
            "align_content": null,
            "align_items": null,
            "align_self": null,
            "border": null,
            "bottom": null,
            "display": null,
            "flex": null,
            "flex_flow": null,
            "grid_area": null,
            "grid_auto_columns": null,
            "grid_auto_flow": null,
            "grid_auto_rows": null,
            "grid_column": null,
            "grid_gap": null,
            "grid_row": null,
            "grid_template_areas": null,
            "grid_template_columns": null,
            "grid_template_rows": null,
            "height": null,
            "justify_content": null,
            "justify_items": null,
            "left": null,
            "margin": null,
            "max_height": null,
            "max_width": null,
            "min_height": null,
            "min_width": null,
            "object_fit": null,
            "object_position": null,
            "order": null,
            "overflow": null,
            "overflow_x": null,
            "overflow_y": null,
            "padding": null,
            "right": null,
            "top": null,
            "visibility": null,
            "width": null
          }
        },
        "4d1e01ea56c7475c904192c01f57fc4b": {
          "model_module": "@jupyter-widgets/base",
          "model_name": "LayoutModel",
          "model_module_version": "1.2.0",
          "state": {
            "_model_module": "@jupyter-widgets/base",
            "_model_module_version": "1.2.0",
            "_model_name": "LayoutModel",
            "_view_count": null,
            "_view_module": "@jupyter-widgets/base",
            "_view_module_version": "1.2.0",
            "_view_name": "LayoutView",
            "align_content": null,
            "align_items": null,
            "align_self": null,
            "border": null,
            "bottom": null,
            "display": null,
            "flex": null,
            "flex_flow": null,
            "grid_area": null,
            "grid_auto_columns": null,
            "grid_auto_flow": null,
            "grid_auto_rows": null,
            "grid_column": null,
            "grid_gap": null,
            "grid_row": null,
            "grid_template_areas": null,
            "grid_template_columns": null,
            "grid_template_rows": null,
            "height": null,
            "justify_content": null,
            "justify_items": null,
            "left": null,
            "margin": null,
            "max_height": null,
            "max_width": null,
            "min_height": null,
            "min_width": null,
            "object_fit": null,
            "object_position": null,
            "order": null,
            "overflow": null,
            "overflow_x": null,
            "overflow_y": null,
            "padding": null,
            "right": null,
            "top": null,
            "visibility": null,
            "width": null
          }
        },
        "f5b6a4e784884328aa9660a202350d7c": {
          "model_module": "@jupyter-widgets/controls",
          "model_name": "SliderStyleModel",
          "model_module_version": "1.5.0",
          "state": {
            "_model_module": "@jupyter-widgets/controls",
            "_model_module_version": "1.5.0",
            "_model_name": "SliderStyleModel",
            "_view_count": null,
            "_view_module": "@jupyter-widgets/base",
            "_view_module_version": "1.2.0",
            "_view_name": "StyleView",
            "description_width": "",
            "handle_color": null
          }
        },
        "22594bab0694408da489d02a8e51aad4": {
          "model_module": "@jupyter-widgets/base",
          "model_name": "LayoutModel",
          "model_module_version": "1.2.0",
          "state": {
            "_model_module": "@jupyter-widgets/base",
            "_model_module_version": "1.2.0",
            "_model_name": "LayoutModel",
            "_view_count": null,
            "_view_module": "@jupyter-widgets/base",
            "_view_module_version": "1.2.0",
            "_view_name": "LayoutView",
            "align_content": null,
            "align_items": null,
            "align_self": null,
            "border": null,
            "bottom": null,
            "display": null,
            "flex": null,
            "flex_flow": null,
            "grid_area": null,
            "grid_auto_columns": null,
            "grid_auto_flow": null,
            "grid_auto_rows": null,
            "grid_column": null,
            "grid_gap": null,
            "grid_row": null,
            "grid_template_areas": null,
            "grid_template_columns": null,
            "grid_template_rows": null,
            "height": null,
            "justify_content": null,
            "justify_items": null,
            "left": null,
            "margin": null,
            "max_height": null,
            "max_width": null,
            "min_height": null,
            "min_width": null,
            "object_fit": null,
            "object_position": null,
            "order": null,
            "overflow": null,
            "overflow_x": null,
            "overflow_y": null,
            "padding": null,
            "right": null,
            "top": null,
            "visibility": null,
            "width": null
          }
        },
        "d26efe8c01bd4759b1575c4537b3a3a3": {
          "model_module": "@jupyter-widgets/controls",
          "model_name": "DescriptionStyleModel",
          "model_module_version": "1.5.0",
          "state": {
            "_model_module": "@jupyter-widgets/controls",
            "_model_module_version": "1.5.0",
            "_model_name": "DescriptionStyleModel",
            "_view_count": null,
            "_view_module": "@jupyter-widgets/base",
            "_view_module_version": "1.2.0",
            "_view_name": "StyleView",
            "description_width": "initial"
          }
        },
        "8cf0e626ab1242879197628c738c1db6": {
          "model_module": "@jupyter-widgets/base",
          "model_name": "LayoutModel",
          "model_module_version": "1.2.0",
          "state": {
            "_model_module": "@jupyter-widgets/base",
            "_model_module_version": "1.2.0",
            "_model_name": "LayoutModel",
            "_view_count": null,
            "_view_module": "@jupyter-widgets/base",
            "_view_module_version": "1.2.0",
            "_view_name": "LayoutView",
            "align_content": null,
            "align_items": null,
            "align_self": null,
            "border": null,
            "bottom": null,
            "display": null,
            "flex": null,
            "flex_flow": null,
            "grid_area": null,
            "grid_auto_columns": null,
            "grid_auto_flow": null,
            "grid_auto_rows": null,
            "grid_column": null,
            "grid_gap": null,
            "grid_row": null,
            "grid_template_areas": null,
            "grid_template_columns": null,
            "grid_template_rows": null,
            "height": null,
            "justify_content": null,
            "justify_items": null,
            "left": null,
            "margin": null,
            "max_height": null,
            "max_width": null,
            "min_height": null,
            "min_width": null,
            "object_fit": null,
            "object_position": null,
            "order": null,
            "overflow": null,
            "overflow_x": null,
            "overflow_y": null,
            "padding": null,
            "right": null,
            "top": null,
            "visibility": null,
            "width": null
          }
        },
        "c9fbe2535cd64da6b99887aa8069dd17": {
          "model_module": "@jupyter-widgets/controls",
          "model_name": "SliderStyleModel",
          "model_module_version": "1.5.0",
          "state": {
            "_model_module": "@jupyter-widgets/controls",
            "_model_module_version": "1.5.0",
            "_model_name": "SliderStyleModel",
            "_view_count": null,
            "_view_module": "@jupyter-widgets/base",
            "_view_module_version": "1.2.0",
            "_view_name": "StyleView",
            "description_width": "initial",
            "handle_color": null
          }
        },
        "404ee464c7e24837a1d121c993bf5702": {
          "model_module": "@jupyter-widgets/base",
          "model_name": "LayoutModel",
          "model_module_version": "1.2.0",
          "state": {
            "_model_module": "@jupyter-widgets/base",
            "_model_module_version": "1.2.0",
            "_model_name": "LayoutModel",
            "_view_count": null,
            "_view_module": "@jupyter-widgets/base",
            "_view_module_version": "1.2.0",
            "_view_name": "LayoutView",
            "align_content": null,
            "align_items": null,
            "align_self": null,
            "border": null,
            "bottom": null,
            "display": null,
            "flex": null,
            "flex_flow": null,
            "grid_area": null,
            "grid_auto_columns": null,
            "grid_auto_flow": null,
            "grid_auto_rows": null,
            "grid_column": null,
            "grid_gap": null,
            "grid_row": null,
            "grid_template_areas": null,
            "grid_template_columns": null,
            "grid_template_rows": null,
            "height": null,
            "justify_content": null,
            "justify_items": null,
            "left": null,
            "margin": null,
            "max_height": null,
            "max_width": null,
            "min_height": null,
            "min_width": null,
            "object_fit": null,
            "object_position": null,
            "order": null,
            "overflow": null,
            "overflow_x": null,
            "overflow_y": null,
            "padding": null,
            "right": null,
            "top": null,
            "visibility": null,
            "width": null
          }
        },
        "9db92529c2e24632ad332957ea01c77d": {
          "model_module": "@jupyter-widgets/controls",
          "model_name": "ToggleButtonsStyleModel",
          "model_module_version": "1.5.0",
          "state": {
            "_model_module": "@jupyter-widgets/controls",
            "_model_module_version": "1.5.0",
            "_model_name": "ToggleButtonsStyleModel",
            "_view_count": null,
            "_view_module": "@jupyter-widgets/base",
            "_view_module_version": "1.2.0",
            "_view_name": "StyleView",
            "button_width": "",
            "description_width": "initial",
            "font_weight": ""
          }
        },
        "33db22d7063e44ce8b2e2b1bd1160e7f": {
          "model_module": "@jupyter-widgets/base",
          "model_name": "LayoutModel",
          "model_module_version": "1.2.0",
          "state": {
            "_model_module": "@jupyter-widgets/base",
            "_model_module_version": "1.2.0",
            "_model_name": "LayoutModel",
            "_view_count": null,
            "_view_module": "@jupyter-widgets/base",
            "_view_module_version": "1.2.0",
            "_view_name": "LayoutView",
            "align_content": null,
            "align_items": null,
            "align_self": null,
            "border": null,
            "bottom": null,
            "display": null,
            "flex": null,
            "flex_flow": null,
            "grid_area": null,
            "grid_auto_columns": null,
            "grid_auto_flow": null,
            "grid_auto_rows": null,
            "grid_column": null,
            "grid_gap": null,
            "grid_row": null,
            "grid_template_areas": null,
            "grid_template_columns": null,
            "grid_template_rows": null,
            "height": null,
            "justify_content": null,
            "justify_items": null,
            "left": null,
            "margin": null,
            "max_height": null,
            "max_width": null,
            "min_height": null,
            "min_width": null,
            "object_fit": null,
            "object_position": null,
            "order": null,
            "overflow": null,
            "overflow_x": null,
            "overflow_y": null,
            "padding": null,
            "right": null,
            "top": null,
            "visibility": null,
            "width": null
          }
        },
        "a8aef5b885294d4388139dbd95344f7b": {
          "model_module": "@jupyter-widgets/controls",
          "model_name": "ToggleButtonsStyleModel",
          "model_module_version": "1.5.0",
          "state": {
            "_model_module": "@jupyter-widgets/controls",
            "_model_module_version": "1.5.0",
            "_model_name": "ToggleButtonsStyleModel",
            "_view_count": null,
            "_view_module": "@jupyter-widgets/base",
            "_view_module_version": "1.2.0",
            "_view_name": "StyleView",
            "button_width": "",
            "description_width": "initial",
            "font_weight": ""
          }
        },
        "57598e1709a34e48a466fdd8b3dee4dd": {
          "model_module": "@jupyter-widgets/base",
          "model_name": "LayoutModel",
          "model_module_version": "1.2.0",
          "state": {
            "_model_module": "@jupyter-widgets/base",
            "_model_module_version": "1.2.0",
            "_model_name": "LayoutModel",
            "_view_count": null,
            "_view_module": "@jupyter-widgets/base",
            "_view_module_version": "1.2.0",
            "_view_name": "LayoutView",
            "align_content": null,
            "align_items": null,
            "align_self": null,
            "border": null,
            "bottom": null,
            "display": null,
            "flex": null,
            "flex_flow": null,
            "grid_area": null,
            "grid_auto_columns": null,
            "grid_auto_flow": null,
            "grid_auto_rows": null,
            "grid_column": null,
            "grid_gap": null,
            "grid_row": null,
            "grid_template_areas": null,
            "grid_template_columns": null,
            "grid_template_rows": null,
            "height": null,
            "justify_content": null,
            "justify_items": null,
            "left": null,
            "margin": null,
            "max_height": null,
            "max_width": null,
            "min_height": null,
            "min_width": null,
            "object_fit": null,
            "object_position": null,
            "order": null,
            "overflow": null,
            "overflow_x": null,
            "overflow_y": null,
            "padding": null,
            "right": null,
            "top": null,
            "visibility": null,
            "width": null
          }
        },
        "87c7217327eb497d89f760c37bd6225e": {
          "model_module": "@jupyter-widgets/controls",
          "model_name": "ToggleButtonsStyleModel",
          "model_module_version": "1.5.0",
          "state": {
            "_model_module": "@jupyter-widgets/controls",
            "_model_module_version": "1.5.0",
            "_model_name": "ToggleButtonsStyleModel",
            "_view_count": null,
            "_view_module": "@jupyter-widgets/base",
            "_view_module_version": "1.2.0",
            "_view_name": "StyleView",
            "button_width": "",
            "description_width": "initial",
            "font_weight": ""
          }
        },
        "5340256862664d48a7ad5823e93d7f5d": {
          "model_module": "@jupyter-widgets/base",
          "model_name": "LayoutModel",
          "model_module_version": "1.2.0",
          "state": {
            "_model_module": "@jupyter-widgets/base",
            "_model_module_version": "1.2.0",
            "_model_name": "LayoutModel",
            "_view_count": null,
            "_view_module": "@jupyter-widgets/base",
            "_view_module_version": "1.2.0",
            "_view_name": "LayoutView",
            "align_content": null,
            "align_items": null,
            "align_self": null,
            "border": null,
            "bottom": null,
            "display": null,
            "flex": null,
            "flex_flow": null,
            "grid_area": null,
            "grid_auto_columns": null,
            "grid_auto_flow": null,
            "grid_auto_rows": null,
            "grid_column": null,
            "grid_gap": null,
            "grid_row": null,
            "grid_template_areas": null,
            "grid_template_columns": null,
            "grid_template_rows": null,
            "height": null,
            "justify_content": null,
            "justify_items": null,
            "left": null,
            "margin": null,
            "max_height": null,
            "max_width": null,
            "min_height": null,
            "min_width": null,
            "object_fit": null,
            "object_position": null,
            "order": null,
            "overflow": null,
            "overflow_x": null,
            "overflow_y": null,
            "padding": null,
            "right": null,
            "top": null,
            "visibility": null,
            "width": null
          }
        },
        "5e023cb325f34099bf5b2597afe26850": {
          "model_module": "@jupyter-widgets/controls",
          "model_name": "DescriptionStyleModel",
          "model_module_version": "1.5.0",
          "state": {
            "_model_module": "@jupyter-widgets/controls",
            "_model_module_version": "1.5.0",
            "_model_name": "DescriptionStyleModel",
            "_view_count": null,
            "_view_module": "@jupyter-widgets/base",
            "_view_module_version": "1.2.0",
            "_view_name": "StyleView",
            "description_width": "initial"
          }
        },
        "dae1ec45ea584bb2af62372b7f074c7d": {
          "model_module": "@jupyter-widgets/base",
          "model_name": "LayoutModel",
          "model_module_version": "1.2.0",
          "state": {
            "_model_module": "@jupyter-widgets/base",
            "_model_module_version": "1.2.0",
            "_model_name": "LayoutModel",
            "_view_count": null,
            "_view_module": "@jupyter-widgets/base",
            "_view_module_version": "1.2.0",
            "_view_name": "LayoutView",
            "align_content": null,
            "align_items": null,
            "align_self": null,
            "border": null,
            "bottom": null,
            "display": null,
            "flex": null,
            "flex_flow": null,
            "grid_area": null,
            "grid_auto_columns": null,
            "grid_auto_flow": null,
            "grid_auto_rows": null,
            "grid_column": null,
            "grid_gap": null,
            "grid_row": null,
            "grid_template_areas": null,
            "grid_template_columns": null,
            "grid_template_rows": null,
            "height": null,
            "justify_content": null,
            "justify_items": null,
            "left": null,
            "margin": null,
            "max_height": null,
            "max_width": null,
            "min_height": null,
            "min_width": null,
            "object_fit": null,
            "object_position": null,
            "order": null,
            "overflow": null,
            "overflow_x": null,
            "overflow_y": null,
            "padding": null,
            "right": null,
            "top": null,
            "visibility": null,
            "width": null
          }
        },
        "61441b0ee1754141a69839452ddf6c87": {
          "model_module": "@jupyter-widgets/controls",
          "model_name": "SliderStyleModel",
          "model_module_version": "1.5.0",
          "state": {
            "_model_module": "@jupyter-widgets/controls",
            "_model_module_version": "1.5.0",
            "_model_name": "SliderStyleModel",
            "_view_count": null,
            "_view_module": "@jupyter-widgets/base",
            "_view_module_version": "1.2.0",
            "_view_name": "StyleView",
            "description_width": "initial",
            "handle_color": null
          }
        },
        "6761fc29c389496297ec6daa4fb35dbf": {
          "model_module": "@jupyter-widgets/base",
          "model_name": "LayoutModel",
          "model_module_version": "1.2.0",
          "state": {
            "_model_module": "@jupyter-widgets/base",
            "_model_module_version": "1.2.0",
            "_model_name": "LayoutModel",
            "_view_count": null,
            "_view_module": "@jupyter-widgets/base",
            "_view_module_version": "1.2.0",
            "_view_name": "LayoutView",
            "align_content": null,
            "align_items": null,
            "align_self": null,
            "border": null,
            "bottom": null,
            "display": null,
            "flex": null,
            "flex_flow": null,
            "grid_area": null,
            "grid_auto_columns": null,
            "grid_auto_flow": null,
            "grid_auto_rows": null,
            "grid_column": null,
            "grid_gap": null,
            "grid_row": null,
            "grid_template_areas": null,
            "grid_template_columns": null,
            "grid_template_rows": null,
            "height": null,
            "justify_content": null,
            "justify_items": null,
            "left": null,
            "margin": null,
            "max_height": null,
            "max_width": null,
            "min_height": null,
            "min_width": null,
            "object_fit": null,
            "object_position": null,
            "order": null,
            "overflow": null,
            "overflow_x": null,
            "overflow_y": null,
            "padding": null,
            "right": null,
            "top": null,
            "visibility": null,
            "width": null
          }
        },
        "0c814e45852047a984f098d1cd208f2b": {
          "model_module": "@jupyter-widgets/controls",
          "model_name": "SliderStyleModel",
          "model_module_version": "1.5.0",
          "state": {
            "_model_module": "@jupyter-widgets/controls",
            "_model_module_version": "1.5.0",
            "_model_name": "SliderStyleModel",
            "_view_count": null,
            "_view_module": "@jupyter-widgets/base",
            "_view_module_version": "1.2.0",
            "_view_name": "StyleView",
            "description_width": "initial",
            "handle_color": null
          }
        },
        "73216a5a97f44cc28024ac64ddcd4ee7": {
          "model_module": "@jupyter-widgets/base",
          "model_name": "LayoutModel",
          "model_module_version": "1.2.0",
          "state": {
            "_model_module": "@jupyter-widgets/base",
            "_model_module_version": "1.2.0",
            "_model_name": "LayoutModel",
            "_view_count": null,
            "_view_module": "@jupyter-widgets/base",
            "_view_module_version": "1.2.0",
            "_view_name": "LayoutView",
            "align_content": null,
            "align_items": null,
            "align_self": null,
            "border": null,
            "bottom": null,
            "display": null,
            "flex": null,
            "flex_flow": null,
            "grid_area": null,
            "grid_auto_columns": null,
            "grid_auto_flow": null,
            "grid_auto_rows": null,
            "grid_column": null,
            "grid_gap": null,
            "grid_row": null,
            "grid_template_areas": null,
            "grid_template_columns": null,
            "grid_template_rows": null,
            "height": null,
            "justify_content": null,
            "justify_items": null,
            "left": null,
            "margin": null,
            "max_height": null,
            "max_width": null,
            "min_height": null,
            "min_width": null,
            "object_fit": null,
            "object_position": null,
            "order": null,
            "overflow": null,
            "overflow_x": null,
            "overflow_y": null,
            "padding": null,
            "right": null,
            "top": null,
            "visibility": null,
            "width": null
          }
        },
        "130718bc54584db68224f10729dc4519": {
          "model_module": "@jupyter-widgets/controls",
          "model_name": "SliderStyleModel",
          "model_module_version": "1.5.0",
          "state": {
            "_model_module": "@jupyter-widgets/controls",
            "_model_module_version": "1.5.0",
            "_model_name": "SliderStyleModel",
            "_view_count": null,
            "_view_module": "@jupyter-widgets/base",
            "_view_module_version": "1.2.0",
            "_view_name": "StyleView",
            "description_width": "initial",
            "handle_color": null
          }
        },
        "82f8ce5824234762b6ce1bd643d33a38": {
          "model_module": "@jupyter-widgets/base",
          "model_name": "LayoutModel",
          "model_module_version": "1.2.0",
          "state": {
            "_model_module": "@jupyter-widgets/base",
            "_model_module_version": "1.2.0",
            "_model_name": "LayoutModel",
            "_view_count": null,
            "_view_module": "@jupyter-widgets/base",
            "_view_module_version": "1.2.0",
            "_view_name": "LayoutView",
            "align_content": null,
            "align_items": null,
            "align_self": null,
            "border": null,
            "bottom": null,
            "display": null,
            "flex": null,
            "flex_flow": null,
            "grid_area": null,
            "grid_auto_columns": null,
            "grid_auto_flow": null,
            "grid_auto_rows": null,
            "grid_column": null,
            "grid_gap": null,
            "grid_row": null,
            "grid_template_areas": null,
            "grid_template_columns": null,
            "grid_template_rows": null,
            "height": null,
            "justify_content": null,
            "justify_items": null,
            "left": null,
            "margin": null,
            "max_height": null,
            "max_width": null,
            "min_height": null,
            "min_width": null,
            "object_fit": null,
            "object_position": null,
            "order": null,
            "overflow": null,
            "overflow_x": null,
            "overflow_y": null,
            "padding": null,
            "right": null,
            "top": null,
            "visibility": null,
            "width": null
          }
        },
        "2b75f98f0b0a4c55ae5f9a666f2a4e26": {
          "model_module": "@jupyter-widgets/controls",
          "model_name": "SliderStyleModel",
          "model_module_version": "1.5.0",
          "state": {
            "_model_module": "@jupyter-widgets/controls",
            "_model_module_version": "1.5.0",
            "_model_name": "SliderStyleModel",
            "_view_count": null,
            "_view_module": "@jupyter-widgets/base",
            "_view_module_version": "1.2.0",
            "_view_name": "StyleView",
            "description_width": "initial",
            "handle_color": null
          }
        },
        "ab8612c4ac054d0aac786fba0287c32f": {
          "model_module": "@jupyter-widgets/base",
          "model_name": "LayoutModel",
          "model_module_version": "1.2.0",
          "state": {
            "_model_module": "@jupyter-widgets/base",
            "_model_module_version": "1.2.0",
            "_model_name": "LayoutModel",
            "_view_count": null,
            "_view_module": "@jupyter-widgets/base",
            "_view_module_version": "1.2.0",
            "_view_name": "LayoutView",
            "align_content": null,
            "align_items": null,
            "align_self": null,
            "border": null,
            "bottom": null,
            "display": null,
            "flex": null,
            "flex_flow": null,
            "grid_area": null,
            "grid_auto_columns": null,
            "grid_auto_flow": null,
            "grid_auto_rows": null,
            "grid_column": null,
            "grid_gap": null,
            "grid_row": null,
            "grid_template_areas": null,
            "grid_template_columns": null,
            "grid_template_rows": null,
            "height": null,
            "justify_content": null,
            "justify_items": null,
            "left": null,
            "margin": null,
            "max_height": null,
            "max_width": null,
            "min_height": null,
            "min_width": null,
            "object_fit": null,
            "object_position": null,
            "order": null,
            "overflow": null,
            "overflow_x": null,
            "overflow_y": null,
            "padding": null,
            "right": null,
            "top": null,
            "visibility": null,
            "width": null
          }
        },
        "e4c062f1cf1b4db1aefc95d14ceb96ba": {
          "model_module": "@jupyter-widgets/controls",
          "model_name": "SliderStyleModel",
          "model_module_version": "1.5.0",
          "state": {
            "_model_module": "@jupyter-widgets/controls",
            "_model_module_version": "1.5.0",
            "_model_name": "SliderStyleModel",
            "_view_count": null,
            "_view_module": "@jupyter-widgets/base",
            "_view_module_version": "1.2.0",
            "_view_name": "StyleView",
            "description_width": "initial",
            "handle_color": null
          }
        },
        "7b3c6bb15bef48deacf0591ce42081d8": {
          "model_module": "@jupyter-widgets/base",
          "model_name": "LayoutModel",
          "model_module_version": "1.2.0",
          "state": {
            "_model_module": "@jupyter-widgets/base",
            "_model_module_version": "1.2.0",
            "_model_name": "LayoutModel",
            "_view_count": null,
            "_view_module": "@jupyter-widgets/base",
            "_view_module_version": "1.2.0",
            "_view_name": "LayoutView",
            "align_content": null,
            "align_items": null,
            "align_self": null,
            "border": null,
            "bottom": null,
            "display": null,
            "flex": null,
            "flex_flow": null,
            "grid_area": null,
            "grid_auto_columns": null,
            "grid_auto_flow": null,
            "grid_auto_rows": null,
            "grid_column": null,
            "grid_gap": null,
            "grid_row": null,
            "grid_template_areas": null,
            "grid_template_columns": null,
            "grid_template_rows": null,
            "height": null,
            "justify_content": null,
            "justify_items": null,
            "left": null,
            "margin": null,
            "max_height": null,
            "max_width": null,
            "min_height": null,
            "min_width": null,
            "object_fit": null,
            "object_position": null,
            "order": null,
            "overflow": null,
            "overflow_x": null,
            "overflow_y": null,
            "padding": null,
            "right": null,
            "top": null,
            "visibility": null,
            "width": null
          }
        },
        "6ff760148ad6424c894e0994786f6470": {
          "model_module": "@jupyter-widgets/controls",
          "model_name": "DescriptionStyleModel",
          "model_module_version": "1.5.0",
          "state": {
            "_model_module": "@jupyter-widgets/controls",
            "_model_module_version": "1.5.0",
            "_model_name": "DescriptionStyleModel",
            "_view_count": null,
            "_view_module": "@jupyter-widgets/base",
            "_view_module_version": "1.2.0",
            "_view_name": "StyleView",
            "description_width": "initial"
          }
        },
        "1f208ca100ca4f87a8f617cb9ae0793d": {
          "model_module": "@jupyter-widgets/base",
          "model_name": "LayoutModel",
          "model_module_version": "1.2.0",
          "state": {
            "_model_module": "@jupyter-widgets/base",
            "_model_module_version": "1.2.0",
            "_model_name": "LayoutModel",
            "_view_count": null,
            "_view_module": "@jupyter-widgets/base",
            "_view_module_version": "1.2.0",
            "_view_name": "LayoutView",
            "align_content": null,
            "align_items": null,
            "align_self": null,
            "border": null,
            "bottom": null,
            "display": null,
            "flex": null,
            "flex_flow": null,
            "grid_area": null,
            "grid_auto_columns": null,
            "grid_auto_flow": null,
            "grid_auto_rows": null,
            "grid_column": null,
            "grid_gap": null,
            "grid_row": null,
            "grid_template_areas": null,
            "grid_template_columns": null,
            "grid_template_rows": null,
            "height": null,
            "justify_content": null,
            "justify_items": null,
            "left": null,
            "margin": null,
            "max_height": null,
            "max_width": null,
            "min_height": null,
            "min_width": null,
            "object_fit": null,
            "object_position": null,
            "order": null,
            "overflow": null,
            "overflow_x": null,
            "overflow_y": null,
            "padding": null,
            "right": null,
            "top": null,
            "visibility": null,
            "width": null
          }
        },
        "8c92e864759c4d389ed98f25d97815a3": {
          "model_module": "@jupyter-widgets/controls",
          "model_name": "DescriptionStyleModel",
          "model_module_version": "1.5.0",
          "state": {
            "_model_module": "@jupyter-widgets/controls",
            "_model_module_version": "1.5.0",
            "_model_name": "DescriptionStyleModel",
            "_view_count": null,
            "_view_module": "@jupyter-widgets/base",
            "_view_module_version": "1.2.0",
            "_view_name": "StyleView",
            "description_width": "initial"
          }
        },
        "80773ad7a43240009dd7a474ea936635": {
          "model_module": "@jupyter-widgets/base",
          "model_name": "LayoutModel",
          "model_module_version": "1.2.0",
          "state": {
            "_model_module": "@jupyter-widgets/base",
            "_model_module_version": "1.2.0",
            "_model_name": "LayoutModel",
            "_view_count": null,
            "_view_module": "@jupyter-widgets/base",
            "_view_module_version": "1.2.0",
            "_view_name": "LayoutView",
            "align_content": null,
            "align_items": null,
            "align_self": null,
            "border": null,
            "bottom": null,
            "display": null,
            "flex": null,
            "flex_flow": null,
            "grid_area": null,
            "grid_auto_columns": null,
            "grid_auto_flow": null,
            "grid_auto_rows": null,
            "grid_column": null,
            "grid_gap": null,
            "grid_row": null,
            "grid_template_areas": null,
            "grid_template_columns": null,
            "grid_template_rows": null,
            "height": null,
            "justify_content": null,
            "justify_items": null,
            "left": null,
            "margin": null,
            "max_height": null,
            "max_width": null,
            "min_height": null,
            "min_width": null,
            "object_fit": null,
            "object_position": null,
            "order": null,
            "overflow": null,
            "overflow_x": null,
            "overflow_y": null,
            "padding": null,
            "right": null,
            "top": null,
            "visibility": null,
            "width": null
          }
        },
        "817e0bdc88b3453fa0b3420fc25aaf2c": {
          "model_module": "@jupyter-widgets/controls",
          "model_name": "DescriptionStyleModel",
          "model_module_version": "1.5.0",
          "state": {
            "_model_module": "@jupyter-widgets/controls",
            "_model_module_version": "1.5.0",
            "_model_name": "DescriptionStyleModel",
            "_view_count": null,
            "_view_module": "@jupyter-widgets/base",
            "_view_module_version": "1.2.0",
            "_view_name": "StyleView",
            "description_width": "initial"
          }
        },
        "17c86ef3beec43e096a9db6522c79be1": {
          "model_module": "@jupyter-widgets/base",
          "model_name": "LayoutModel",
          "model_module_version": "1.2.0",
          "state": {
            "_model_module": "@jupyter-widgets/base",
            "_model_module_version": "1.2.0",
            "_model_name": "LayoutModel",
            "_view_count": null,
            "_view_module": "@jupyter-widgets/base",
            "_view_module_version": "1.2.0",
            "_view_name": "LayoutView",
            "align_content": null,
            "align_items": null,
            "align_self": null,
            "border": null,
            "bottom": null,
            "display": null,
            "flex": null,
            "flex_flow": null,
            "grid_area": null,
            "grid_auto_columns": null,
            "grid_auto_flow": null,
            "grid_auto_rows": null,
            "grid_column": null,
            "grid_gap": null,
            "grid_row": null,
            "grid_template_areas": null,
            "grid_template_columns": null,
            "grid_template_rows": null,
            "height": null,
            "justify_content": null,
            "justify_items": null,
            "left": null,
            "margin": null,
            "max_height": null,
            "max_width": null,
            "min_height": null,
            "min_width": null,
            "object_fit": null,
            "object_position": null,
            "order": null,
            "overflow": null,
            "overflow_x": null,
            "overflow_y": null,
            "padding": null,
            "right": null,
            "top": null,
            "visibility": null,
            "width": null
          }
        },
        "6c2331385af549b695e71a8120a0771a": {
          "model_module": "@jupyter-widgets/controls",
          "model_name": "DescriptionStyleModel",
          "model_module_version": "1.5.0",
          "state": {
            "_model_module": "@jupyter-widgets/controls",
            "_model_module_version": "1.5.0",
            "_model_name": "DescriptionStyleModel",
            "_view_count": null,
            "_view_module": "@jupyter-widgets/base",
            "_view_module_version": "1.2.0",
            "_view_name": "StyleView",
            "description_width": "initial"
          }
        },
        "003e06fa969c4b8ca207b7ce3444b5b1": {
          "model_module": "@jupyter-widgets/base",
          "model_name": "LayoutModel",
          "model_module_version": "1.2.0",
          "state": {
            "_model_module": "@jupyter-widgets/base",
            "_model_module_version": "1.2.0",
            "_model_name": "LayoutModel",
            "_view_count": null,
            "_view_module": "@jupyter-widgets/base",
            "_view_module_version": "1.2.0",
            "_view_name": "LayoutView",
            "align_content": null,
            "align_items": null,
            "align_self": null,
            "border": null,
            "bottom": null,
            "display": null,
            "flex": null,
            "flex_flow": null,
            "grid_area": null,
            "grid_auto_columns": null,
            "grid_auto_flow": null,
            "grid_auto_rows": null,
            "grid_column": null,
            "grid_gap": null,
            "grid_row": null,
            "grid_template_areas": null,
            "grid_template_columns": null,
            "grid_template_rows": null,
            "height": null,
            "justify_content": null,
            "justify_items": null,
            "left": null,
            "margin": null,
            "max_height": null,
            "max_width": null,
            "min_height": null,
            "min_width": null,
            "object_fit": null,
            "object_position": null,
            "order": null,
            "overflow": null,
            "overflow_x": null,
            "overflow_y": null,
            "padding": null,
            "right": null,
            "top": null,
            "visibility": null,
            "width": null
          }
        },
        "fbfc1872215d41739bc96e8327517ecd": {
          "model_module": "@jupyter-widgets/controls",
          "model_name": "ButtonStyleModel",
          "model_module_version": "1.5.0",
          "state": {
            "_model_module": "@jupyter-widgets/controls",
            "_model_module_version": "1.5.0",
            "_model_name": "ButtonStyleModel",
            "_view_count": null,
            "_view_module": "@jupyter-widgets/base",
            "_view_module_version": "1.2.0",
            "_view_name": "StyleView",
            "button_color": null,
            "font_weight": ""
          }
        },
        "c06743da54d348c7a30556b61c9e70ed": {
          "model_module": "@jupyter-widgets/base",
          "model_name": "LayoutModel",
          "model_module_version": "1.2.0",
          "state": {
            "_model_module": "@jupyter-widgets/base",
            "_model_module_version": "1.2.0",
            "_model_name": "LayoutModel",
            "_view_count": null,
            "_view_module": "@jupyter-widgets/base",
            "_view_module_version": "1.2.0",
            "_view_name": "LayoutView",
            "align_content": null,
            "align_items": null,
            "align_self": null,
            "border": null,
            "bottom": null,
            "display": null,
            "flex": null,
            "flex_flow": null,
            "grid_area": null,
            "grid_auto_columns": null,
            "grid_auto_flow": null,
            "grid_auto_rows": null,
            "grid_column": null,
            "grid_gap": null,
            "grid_row": null,
            "grid_template_areas": null,
            "grid_template_columns": null,
            "grid_template_rows": null,
            "height": null,
            "justify_content": null,
            "justify_items": null,
            "left": null,
            "margin": null,
            "max_height": null,
            "max_width": null,
            "min_height": null,
            "min_width": null,
            "object_fit": null,
            "object_position": null,
            "order": null,
            "overflow": null,
            "overflow_x": null,
            "overflow_y": null,
            "padding": null,
            "right": null,
            "top": null,
            "visibility": null,
            "width": null
          }
        }
      }
    }
  },
  "nbformat": 4,
  "nbformat_minor": 0
}